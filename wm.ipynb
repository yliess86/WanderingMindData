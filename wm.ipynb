{
 "cells": [
  {
   "cell_type": "markdown",
   "metadata": {},
   "source": [
    "# Wandering Mind Data"
   ]
  },
  {
   "cell_type": "markdown",
   "metadata": {},
   "source": [
    "## Imports"
   ]
  },
  {
   "cell_type": "code",
   "execution_count": 1,
   "metadata": {},
   "outputs": [],
   "source": [
    "from wm.gui.app import App"
   ]
  },
  {
   "cell_type": "markdown",
   "metadata": {},
   "source": [
    "## Pipeline"
   ]
  },
  {
   "cell_type": "code",
   "execution_count": 2,
   "metadata": {
    "scrolled": false
   },
   "outputs": [
    {
     "data": {
      "application/vnd.jupyter.widget-view+json": {
       "model_id": "967a7292596648d686ab770a536e9657",
       "version_major": 2,
       "version_minor": 0
      },
      "text/plain": [
       "VBox(children=(Tab(children=(GridspecLayout(children=(Text(value='mp3_trim', description='MP3', layout=Layout(…"
      ]
     },
     "metadata": {},
     "output_type": "display_data"
    },
    {
     "name": "stderr",
     "output_type": "stream",
     "text": [
      "/home/yliess/anaconda3/envs/python38/lib/python3.8/site-packages/torch/nn/functional.py:718: UserWarning: Named tensors and all their associated APIs are an experimental feature and subject to change. Please do not use them for anything important until they are released as stable. (Triggered internally at  /opt/conda/conda-bld/pytorch_1623448278899/work/c10/core/TensorImpl.h:1156.)\n",
      "  return torch.max_pool2d(input, kernel_size, stride, padding, dilation, ceil_mode)\n"
     ]
    },
    {
     "name": "stdout",
     "output_type": "stream",
     "text": [
      "   byola_feature_0  byola_feature_1  byola_feature_2  byola_feature_3  \\\n",
      "0       226.144241              0.0              0.0       230.357178   \n",
      "1       227.618408              0.0              0.0       240.237610   \n",
      "2       227.305862              0.0              0.0       234.875031   \n",
      "3       216.570740              0.0              0.0       225.590775   \n",
      "4       237.130646              0.0              0.0       241.761642   \n",
      "\n",
      "   byola_feature_4  byola_feature_5  byola_feature_6  byola_feature_7  \\\n",
      "0        22.757830              0.0        54.847893              0.0   \n",
      "1        26.376551              0.0        30.218439              0.0   \n",
      "2        31.873795              0.0        48.690315              0.0   \n",
      "3        47.565857              0.0        48.687763              0.0   \n",
      "4        44.224922              0.0        27.181683              0.0   \n",
      "\n",
      "   byola_feature_8  byola_feature_9  ...  byola_feature_2042  \\\n",
      "0       138.167984              0.0  ...                 0.0   \n",
      "1       147.173065              0.0  ...                 0.0   \n",
      "2       153.807861              0.0  ...                 0.0   \n",
      "3       154.032166              0.0  ...                 0.0   \n",
      "4       151.409683              0.0  ...                 0.0   \n",
      "\n",
      "   byola_feature_2043  byola_feature_2044  byola_feature_2045  \\\n",
      "0           67.430511           52.088963                 0.0   \n",
      "1           68.095795           46.759609                 0.0   \n",
      "2           39.265781           23.712219                 0.0   \n",
      "3           29.579315           18.168009                 0.0   \n",
      "4           21.200022           37.402245                 0.0   \n",
      "\n",
      "   byola_feature_2046  byola_feature_2047  panns_label  \\\n",
      "0            6.916539                 0.0          514   \n",
      "1            0.000000                 0.0          137   \n",
      "2            4.651221                 0.0          137   \n",
      "3            4.309124                 0.0          127   \n",
      "4           31.327339                 0.0          137   \n",
      "\n",
      "                                           file_path  file_sample_start  \\\n",
      "0  mp3_trim/aporee_50553_57649/soundmap2020072122...                  0   \n",
      "1  mp3_trim/aporee_50553_57649/soundmap2020072122...              40000   \n",
      "2  mp3_trim/aporee_50553_57649/soundmap2020072122...              80000   \n",
      "3  mp3_trim/aporee_50553_57649/soundmap2020072122...             120000   \n",
      "4  mp3_trim/aporee_50553_57649/soundmap2020072122...             160000   \n",
      "\n",
      "   file_sample_duration  \n",
      "0                 80000  \n",
      "1                 80000  \n",
      "2                 80000  \n",
      "3                 80000  \n",
      "4                 80000  \n",
      "\n",
      "[5 rows x 2052 columns]\n",
      "Epoch 1/10\n",
      "21/21 [==============================] - 1s 1ms/step - loss: 2.6135\n",
      "Epoch 2/10\n",
      "21/21 [==============================] - 0s 1ms/step - loss: 0.9619\n",
      "Epoch 3/10\n",
      "21/21 [==============================] - 0s 1ms/step - loss: 0.6695\n",
      "Epoch 4/10\n",
      "21/21 [==============================] - 0s 1ms/step - loss: 0.5825\n",
      "Epoch 5/10\n",
      "21/21 [==============================] - 0s 1ms/step - loss: 0.5393\n",
      "Epoch 6/10\n",
      "21/21 [==============================] - 0s 1ms/step - loss: 0.5262\n",
      "Epoch 7/10\n",
      "21/21 [==============================] - 0s 1ms/step - loss: 0.5205\n",
      "Epoch 8/10\n",
      "21/21 [==============================] - 0s 1ms/step - loss: 0.5339\n",
      "Epoch 9/10\n",
      "21/21 [==============================] - 0s 1ms/step - loss: 0.5331\n",
      "Epoch 10/10\n",
      "21/21 [==============================] - 0s 1ms/step - loss: 0.4975\n",
      "   byola_feature_0  byola_feature_1  byola_feature_2  byola_feature_3  \\\n",
      "0       226.144241              0.0              0.0       230.357178   \n",
      "1       227.618408              0.0              0.0       240.237610   \n",
      "2       227.305862              0.0              0.0       234.875031   \n",
      "3       216.570740              0.0              0.0       225.590775   \n",
      "4       237.130646              0.0              0.0       241.761642   \n",
      "\n",
      "   byola_feature_4  byola_feature_5  byola_feature_6  byola_feature_7  \\\n",
      "0        22.757830              0.0        54.847893              0.0   \n",
      "1        26.376551              0.0        30.218439              0.0   \n",
      "2        31.873795              0.0        48.690315              0.0   \n",
      "3        47.565857              0.0        48.687763              0.0   \n",
      "4        44.224922              0.0        27.181683              0.0   \n",
      "\n",
      "   byola_feature_8  byola_feature_9  ...  pca_feature_7  pca_feature_8  \\\n",
      "0       138.167984              0.0  ...       0.395254       8.351504   \n",
      "1       147.173065              0.0  ...       0.876985       4.440593   \n",
      "2       153.807861              0.0  ...       1.390998       5.584974   \n",
      "3       154.032166              0.0  ...       2.350852       7.307239   \n",
      "4       151.409683              0.0  ...       0.703872       5.730415   \n",
      "\n",
      "   pca_feature_9  pca_feature_10  pca_feature_11  pca_feature_12  \\\n",
      "0      -3.575118       -0.313124        1.047795       -3.108473   \n",
      "1      -3.609499        0.338266        1.585051       -1.833277   \n",
      "2      -3.495677        0.168041       -0.283351       -2.231281   \n",
      "3      -4.343040        0.851424       -2.076141       -3.234406   \n",
      "4      -3.222499        0.888399       -0.922491       -3.085514   \n",
      "\n",
      "   pca_feature_13  pca_feature_14  umap_feature_0  umap_feature_1  \n",
      "0       -0.187405       -7.395304       -3.792356        3.157437  \n",
      "1       -0.472962       -3.534583       -3.646487        2.756218  \n",
      "2        1.002741       -3.407658       -3.456517        3.436912  \n",
      "3        2.271646       -3.213920       -3.068888        3.950103  \n",
      "4        1.559438       -3.180140       -3.199457        3.471807  \n",
      "\n",
      "[5 rows x 2069 columns]\n"
     ]
    }
   ],
   "source": [
    "app = App()\n",
    "app.display()"
   ]
  }
 ],
 "metadata": {
  "kernelspec": {
   "display_name": "Python 3",
   "language": "python",
   "name": "python3"
  },
  "language_info": {
   "codemirror_mode": {
    "name": "ipython",
    "version": 3
   },
   "file_extension": ".py",
   "mimetype": "text/x-python",
   "name": "python",
   "nbconvert_exporter": "python",
   "pygments_lexer": "ipython3",
   "version": "3.8.5"
  }
 },
 "nbformat": 4,
 "nbformat_minor": 2
}
