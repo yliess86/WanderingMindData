{
 "cells": [
  {
   "cell_type": "markdown",
   "metadata": {},
   "source": [
    "# Wandering Mind Data"
   ]
  },
  {
   "cell_type": "markdown",
   "metadata": {},
   "source": [
    "## Imports"
   ]
  },
  {
   "cell_type": "code",
   "execution_count": 1,
   "metadata": {},
   "outputs": [],
   "source": [
    "from wm.gui.app import App"
   ]
  },
  {
   "cell_type": "markdown",
   "metadata": {},
   "source": [
    "## Pipeline"
   ]
  },
  {
   "cell_type": "code",
   "execution_count": 2,
   "metadata": {
    "scrolled": false
   },
   "outputs": [
    {
     "name": "stdout",
     "output_type": "stream",
     "text": [
      "[DataFrame] Loaded\n",
      "   byola_feature_0  byola_feature_1  byola_feature_2  byola_feature_3  \\\n",
      "0         0.000000              0.0        38.396584          0.00000   \n",
      "1         0.000000              0.0        17.977921          0.00000   \n",
      "2         0.000000              0.0         4.780381          0.00000   \n",
      "3         0.000000              0.0         0.000000         14.67483   \n",
      "4        16.093102              0.0         8.110784          0.00000   \n",
      "\n",
      "   byola_feature_4  byola_feature_5  byola_feature_6  byola_feature_7  \\\n",
      "0              0.0              0.0              0.0              0.0   \n",
      "1              0.0              0.0              0.0              0.0   \n",
      "2              0.0              0.0              0.0              0.0   \n",
      "3              0.0              0.0              0.0              0.0   \n",
      "4              0.0              0.0              0.0              0.0   \n",
      "\n",
      "   byola_feature_8  byola_feature_9  ...  byola_feature_2042  \\\n",
      "0        82.852608              0.0  ...                 0.0   \n",
      "1        82.189194              0.0  ...                 0.0   \n",
      "2        71.292526              0.0  ...                 0.0   \n",
      "3        47.022182              0.0  ...                 0.0   \n",
      "4        71.913353              0.0  ...                 0.0   \n",
      "\n",
      "   byola_feature_2043  byola_feature_2044  byola_feature_2045  \\\n",
      "0          147.702667           37.044079                 0.0   \n",
      "1          146.265915           30.000326                 0.0   \n",
      "2           70.322350           90.298584                 0.0   \n",
      "3           53.927502           89.370750                 0.0   \n",
      "4           97.604149           26.224844                 0.0   \n",
      "\n",
      "   byola_feature_2046  byola_feature_2047  panns_label  \\\n",
      "0          117.507729                 0.0          137   \n",
      "1          132.629944                 0.0          137   \n",
      "2          126.308487                 0.0          137   \n",
      "3           26.158514                 0.0          137   \n",
      "4           97.310936                 0.0          137   \n",
      "\n",
      "                                           file_path  file_sample_start  \\\n",
      "0  audios/freesound/01/592565__szegvari__green-la...                  0   \n",
      "1  audios/freesound/01/592565__szegvari__green-la...              40000   \n",
      "2  audios/freesound/01/592565__szegvari__green-la...              80000   \n",
      "3  audios/freesound/01/592565__szegvari__green-la...             120000   \n",
      "4  audios/freesound/01/592565__szegvari__green-la...             160000   \n",
      "\n",
      "   file_sample_duration  \n",
      "0                 80000  \n",
      "1                 80000  \n",
      "2                 80000  \n",
      "3                 80000  \n",
      "4                 80000  \n",
      "\n",
      "[5 rows x 2052 columns]\n"
     ]
    },
    {
     "data": {
      "application/vnd.jupyter.widget-view+json": {
       "model_id": "974673a7d1e6474cac94de8a02bb1aab",
       "version_major": 2,
       "version_minor": 0
      },
      "text/plain": [
       "VBox(children=(Tab(children=(GridspecLayout(children=(Text(value='pca.pkl', description='PCA', layout=Layout(g…"
      ]
     },
     "metadata": {},
     "output_type": "display_data"
    },
    {
     "name": "stderr",
     "output_type": "stream",
     "text": [
      "/home/yliess/anaconda3/envs/python38/lib/python3.8/site-packages/torch/nn/functional.py:718: UserWarning: Named tensors and all their associated APIs are an experimental feature and subject to change. Please do not use them for anything important until they are released as stable. (Triggered internally at  /opt/conda/conda-bld/pytorch_1623448278899/work/c10/core/TensorImpl.h:1156.)\n",
      "  return torch.max_pool2d(input, kernel_size, stride, padding, dilation, ceil_mode)\n"
     ]
    },
    {
     "name": "stdout",
     "output_type": "stream",
     "text": [
      "   byola_feature_0  byola_feature_1  byola_feature_2  byola_feature_3  \\\n",
      "0         6.456948        38.700638        13.418986              0.0   \n",
      "1         0.000000        42.763371        23.624399              0.0   \n",
      "2        19.216148        89.152496         2.390547              0.0   \n",
      "3        18.767775       122.018982         0.000000              0.0   \n",
      "4        17.455553       115.776428        27.730576              0.0   \n",
      "\n",
      "   byola_feature_4  byola_feature_5  byola_feature_6  byola_feature_7  \\\n",
      "0         4.885881              0.0        66.708244         0.194669   \n",
      "1         3.054127              0.0        62.053947         0.000000   \n",
      "2         0.000000              0.0        73.737915         0.000000   \n",
      "3         0.000000              0.0        78.856415         0.000000   \n",
      "4         0.000000              0.0        66.795517         5.290741   \n",
      "\n",
      "   byola_feature_8  byola_feature_9  ...  byola_feature_2042  \\\n",
      "0       107.946899              0.0  ...                 0.0   \n",
      "1        98.511292              0.0  ...                 0.0   \n",
      "2        99.111923              0.0  ...                 0.0   \n",
      "3        92.526382              0.0  ...                 0.0   \n",
      "4       116.041855              0.0  ...                 0.0   \n",
      "\n",
      "   byola_feature_2043  byola_feature_2044  byola_feature_2045  \\\n",
      "0           97.343948            0.399283            0.000000   \n",
      "1           89.782913            0.727455            0.000000   \n",
      "2           42.469177           25.734985            4.678109   \n",
      "3           58.663193           14.080495            0.000000   \n",
      "4           71.980728            0.000000            0.000000   \n",
      "\n",
      "   byola_feature_2046  byola_feature_2047  panns_label  \\\n",
      "0          120.046448                 0.0          137   \n",
      "1          138.096741                 0.0          137   \n",
      "2          123.821312                 0.0          137   \n",
      "3           42.166740                 0.0          137   \n",
      "4           98.981285                 0.0          137   \n",
      "\n",
      "                                           file_path  file_sample_start  \\\n",
      "0  audios/freesound/01/592565__szegvari__green-la...                  0   \n",
      "1  audios/freesound/01/592565__szegvari__green-la...              40000   \n",
      "2  audios/freesound/01/592565__szegvari__green-la...              80000   \n",
      "3  audios/freesound/01/592565__szegvari__green-la...             120000   \n",
      "4  audios/freesound/01/592565__szegvari__green-la...             160000   \n",
      "\n",
      "   file_sample_duration  \n",
      "0                 80000  \n",
      "1                 80000  \n",
      "2                 80000  \n",
      "3                 80000  \n",
      "4                 80000  \n",
      "\n",
      "[5 rows x 2052 columns]\n",
      "[DataFrame] Data Saved as data.pkl\n",
      "Epoch 1/10\n",
      "11/11 [==============================] - 1s 1ms/step - loss: 3.3456\n",
      "Epoch 2/10\n",
      "11/11 [==============================] - 0s 2ms/step - loss: 1.7313\n",
      "Epoch 3/10\n",
      "11/11 [==============================] - 0s 1ms/step - loss: 1.1278\n",
      "Epoch 4/10\n",
      "11/11 [==============================] - 0s 2ms/step - loss: 0.7814\n",
      "Epoch 5/10\n",
      "11/11 [==============================] - 0s 2ms/step - loss: 0.6497\n",
      "Epoch 6/10\n",
      "11/11 [==============================] - 0s 2ms/step - loss: 0.5837\n",
      "Epoch 7/10\n",
      "11/11 [==============================] - 0s 2ms/step - loss: 0.5532\n",
      "Epoch 8/10\n",
      "11/11 [==============================] - 0s 1ms/step - loss: 0.5322\n",
      "Epoch 9/10\n",
      "11/11 [==============================] - 0s 1ms/step - loss: 0.5168\n",
      "Epoch 10/10\n",
      "11/11 [==============================] - 0s 1ms/step - loss: 0.5283\n",
      "   byola_feature_0  byola_feature_1  byola_feature_2  byola_feature_3  \\\n",
      "0         6.456948        38.700638        13.418986              0.0   \n",
      "1         0.000000        42.763371        23.624399              0.0   \n",
      "2        19.216148        89.152496         2.390547              0.0   \n",
      "3        18.767775       122.018982         0.000000              0.0   \n",
      "4        17.455553       115.776428        27.730576              0.0   \n",
      "\n",
      "   byola_feature_4  byola_feature_5  byola_feature_6  byola_feature_7  \\\n",
      "0         4.885881              0.0        66.708244         0.194669   \n",
      "1         3.054127              0.0        62.053947         0.000000   \n",
      "2         0.000000              0.0        73.737915         0.000000   \n",
      "3         0.000000              0.0        78.856415         0.000000   \n",
      "4         0.000000              0.0        66.795517         5.290741   \n",
      "\n",
      "   byola_feature_8  byola_feature_9  ...  pca_feature_7  pca_feature_8  \\\n",
      "0       107.946899              0.0  ...      -3.188870      -2.550256   \n",
      "1        98.511292              0.0  ...      -1.749072      -1.426689   \n",
      "2        99.111923              0.0  ...       4.384463      -8.745851   \n",
      "3        92.526382              0.0  ...       4.135515      -8.605357   \n",
      "4       116.041855              0.0  ...       0.560465      -2.492570   \n",
      "\n",
      "   pca_feature_9  pca_feature_10  pca_feature_11  pca_feature_12  \\\n",
      "0       3.493452       -1.502784       -0.056703        2.708938   \n",
      "1      18.886911       -5.551967       -4.380159       11.158300   \n",
      "2       5.246379       -3.396079        1.616971        1.245120   \n",
      "3      -4.186485       -1.132255        2.788083       -6.491160   \n",
      "4     -17.977810        0.474002        4.382092       -9.404714   \n",
      "\n",
      "   pca_feature_13  pca_feature_14  umap_feature_0  umap_feature_1  \n",
      "0       -9.795947        9.846915        1.003278        4.114824  \n",
      "1       -7.951111        1.180219        0.713177        3.859638  \n",
      "2       -2.147749       10.509975        0.902938        3.652247  \n",
      "3        0.018781       12.475711        1.531155        3.564170  \n",
      "4       16.135639       -5.388302        2.223490        3.432152  \n",
      "\n",
      "[5 rows x 2069 columns]\n",
      "[DataFrame] Data Saved as data.pkl\n"
     ]
    },
    {
     "name": "stderr",
     "output_type": "stream",
     "text": [
      "/home/yliess/anaconda3/envs/python38/lib/python3.8/site-packages/umap/parametric_umap.py:883: UserWarning: Did not pickle encoder: Can't pickle <function concat at 0x7f5ce4728f70>: it's not the same object as tensorflow.python.ops.array_ops.concat\n",
      "  warn(\"Did not pickle {}: {}\".format(key, e))\n",
      "/home/yliess/anaconda3/envs/python38/lib/python3.8/site-packages/umap/parametric_umap.py:883: UserWarning: Did not pickle parametric_model: Can't pickle <function concat at 0x7f5ce4728f70>: it's not the same object as tensorflow.python.ops.array_ops.concat\n",
      "  warn(\"Did not pickle {}: {}\".format(key, e))\n",
      "/home/yliess/anaconda3/envs/python38/lib/python3.8/site-packages/umap/parametric_umap.py:883: UserWarning: Did not pickle optimizer: Can't pickle local object 'make_gradient_clipnorm_fn.<locals>.<lambda>'\n",
      "  warn(\"Did not pickle {}: {}\".format(key, e))\n"
     ]
    }
   ],
   "source": [
    "app = App()\n",
    "app.display()"
   ]
  }
 ],
 "metadata": {
  "kernelspec": {
   "display_name": "Python 3",
   "language": "python",
   "name": "python3"
  },
  "language_info": {
   "codemirror_mode": {
    "name": "ipython",
    "version": 3
   },
   "file_extension": ".py",
   "mimetype": "text/x-python",
   "name": "python",
   "nbconvert_exporter": "python",
   "pygments_lexer": "ipython3",
   "version": "3.8.5"
  }
 },
 "nbformat": 4,
 "nbformat_minor": 2
}
